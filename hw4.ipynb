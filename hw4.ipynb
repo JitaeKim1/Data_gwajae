{
 "cells": [
  {
   "cell_type": "code",
   "execution_count": 2,
   "id": "573708af-6066-41d0-90a8-3a14558935c9",
   "metadata": {},
   "outputs": [],
   "source": [
    "month=['쌍', '쇠', '복', '돌', '팽', '육', '쌍', '개', '칠', '갑', '삼', '방']\n",
    "day=['봉', '구', '욕', '포', '똥', '삼', '식', '석', '놈', '님', '년', '돌', '단', '득', '방', '질', '장', '걸', '래', '룡', '동', '순', '자', '박', '창', '언', '것', '포', '만', '단', '국']"
   ]
  },
  {
   "cell_type": "code",
   "execution_count": null,
   "id": "8499da98-3587-454b-85db-99ceb900a71f",
   "metadata": {},
   "outputs": [],
   "source": [
    "familyname1=input('성 : ')\n",
    "month1=int(input('태어난달 : '))\n",
    "day1=int(input('태어난 날짜 : '))\n",
    "def get_my_chosun_name(familyname,month1,day1):\n",
    "    print(\"UR Chosun name is %s,%s,%s\"%(familyname,month[month1-1],day[day1-1]))\n",
    "\n",
    "print(get_my_chosun_name(familyname1,month1,day1))"
   ]
  },
  {
   "cell_type": "code",
   "execution_count": 21,
   "id": "e90a12c3-bf9f-4eab-b9a7-b054fe404d3c",
   "metadata": {},
   "outputs": [
    {
     "name": "stdout",
     "output_type": "stream",
     "text": [
      "UR Chosun name is 안,칠,걸\n"
     ]
    }
   ],
   "source": [
    "#input 안쓰고 하는법\n",
    "get_my_chosun_name('안',9,18) #과 같이바로 써서 부르면됨."
   ]
  }
 ],
 "metadata": {
  "kernelspec": {
   "display_name": "Python 3 (ipykernel)",
   "language": "python",
   "name": "python3"
  },
  "language_info": {
   "codemirror_mode": {
    "name": "ipython",
    "version": 3
   },
   "file_extension": ".py",
   "mimetype": "text/x-python",
   "name": "python",
   "nbconvert_exporter": "python",
   "pygments_lexer": "ipython3",
   "version": "3.9.12"
  }
 },
 "nbformat": 4,
 "nbformat_minor": 5
}
