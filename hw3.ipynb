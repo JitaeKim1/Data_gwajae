{
 "cells": [
  {
   "cell_type": "code",
   "execution_count": 16,
   "id": "efaa8a46-3a16-44ee-bc12-de0228336d3b",
   "metadata": {},
   "outputs": [],
   "source": [
    "import numpy as np\n",
    "import pandas as pd"
   ]
  },
  {
   "cell_type": "code",
   "execution_count": 18,
   "id": "05c9f7af-4157-427b-8280-22bfc19ea8a0",
   "metadata": {},
   "outputs": [],
   "source": [
    "hairstyles = [\"bouffant\", \"pixie\", \"dreadlocks\", \"crew\", \"bowl\", \"bob\", \"mohawk\", \"flattop\"]\n",
    "prices = [30, 25, 40, 20, 20, 35, 50, 35]\n",
    "last_week = [2, 3, 5, 8, 4, 4, 6, 2]\n",
    "\n"
   ]
  },
  {
   "cell_type": "code",
   "execution_count": 38,
   "id": "e5869e48-5c53-4576-a307-d49dc4908590",
   "metadata": {},
   "outputs": [
    {
     "name": "stdout",
     "output_type": "stream",
     "text": [
      "Average price is 31.875\n"
     ]
    }
   ],
   "source": [
    "total_price=0\n",
    "for x in range(0,8):\n",
    "    total_price+=prices[x]\n",
    "\n",
    "average_price=total_price/len(prices)\n",
    "print(\"Average price is\",average_price)"
   ]
  },
  {
   "cell_type": "code",
   "execution_count": 20,
   "id": "1abab114-002f-46c2-8849-20ef21dd11b5",
   "metadata": {},
   "outputs": [
    {
     "name": "stdout",
     "output_type": "stream",
     "text": [
      "[25. 20. 35. 15. 15. 30. 45. 30.]\n"
     ]
    }
   ],
   "source": [
    "new_prices = np.zeros((8))\n",
    "for y in range(0,8):\n",
    "    new_prices[y]=prices[y]-5\n",
    "\n",
    "print(new_prices)"
   ]
  },
  {
   "cell_type": "code",
   "execution_count": 76,
   "id": "680f1f57-cb34-4a3a-a1dd-f70c812551ac",
   "metadata": {},
   "outputs": [
    {
     "name": "stdout",
     "output_type": "stream",
     "text": [
      "average_daily_revenue is 155.0\n"
     ]
    }
   ],
   "source": [
    "total_revenue=0\n",
    "i=0\n",
    "for i in range(len(hairstyles)):\n",
    "    total_revenue+=prices[i]*last_week[i]\n",
    "    \n",
    "average_daily_revenue=total_revenue/7\n",
    "print(\"average_daily_revenue is\",average_daily_revenue)"
   ]
  },
  {
   "cell_type": "code",
   "execution_count": 74,
   "id": "f46e1046-a80c-4cd7-8e16-52e10d9a6a07",
   "metadata": {},
   "outputs": [
    {
     "name": "stdout",
     "output_type": "stream",
     "text": [
      "['bouffant', 'pixie', 'crew', 'bowl']\n"
     ]
    }
   ],
   "source": [
    "cuts_under_30=[]\n",
    "\n",
    "for i in range (len(new_prices)-1):\n",
    "    if(new_prices[i]<30):\n",
    "        cuts_under_30+=[hairstyles[i]]\n",
    "        \n",
    "print(cuts_under_30)"
   ]
  },
  {
   "cell_type": "code",
   "execution_count": null,
   "id": "175ca239-43bf-4521-928c-c4b1304bd8cc",
   "metadata": {},
   "outputs": [],
   "source": []
  }
 ],
 "metadata": {
  "kernelspec": {
   "display_name": "Python 3 (ipykernel)",
   "language": "python",
   "name": "python3"
  },
  "language_info": {
   "codemirror_mode": {
    "name": "ipython",
    "version": 3
   },
   "file_extension": ".py",
   "mimetype": "text/x-python",
   "name": "python",
   "nbconvert_exporter": "python",
   "pygments_lexer": "ipython3",
   "version": "3.9.12"
  }
 },
 "nbformat": 4,
 "nbformat_minor": 5
}
