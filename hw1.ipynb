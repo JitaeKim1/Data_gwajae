{
 "cells": [
  {
   "cell_type": "code",
   "execution_count": 10,
   "id": "eb7240f2-1dc1-4930-8a9c-fd38ac194035",
   "metadata": {},
   "outputs": [
    {
     "name": "stdout",
     "output_type": "stream",
     "text": [
      "Lovely Loveseat. Tufted polyester blend on wood. 32 inches high x 40 inches wide x 30 inches deep. Red or white.\n"
     ]
    }
   ],
   "source": [
    "lovely_loveseat_description=\"Lovely Loveseat. Tufted polyester blend on wood. 32 inches high x 40 inches wide x 30 inches deep. Red or white.\"\n",
    "print(lovely_loveseat_description)"
   ]
  },
  {
   "cell_type": "code",
   "execution_count": 11,
   "id": "848827cb-bcea-414e-901a-f60ce51816dc",
   "metadata": {},
   "outputs": [],
   "source": [
    "lovely_loveseat_price=254.00"
   ]
  },
  {
   "cell_type": "code",
   "execution_count": 12,
   "id": "af5506f2-6a4b-4dc9-a33b-a6e7bba37296",
   "metadata": {},
   "outputs": [
    {
     "name": "stdout",
     "output_type": "stream",
     "text": [
      "Stylish Settee. Faux leather on birch. 29.50 inches high x 54.75 inches wide x 28 inches deep. Black.\n"
     ]
    }
   ],
   "source": [
    "stylish_settee_description=\"Stylish Settee. Faux leather on birch. 29.50 inches high x 54.75 inches wide x 28 inches deep. Black.\"\n",
    "print(stylish_settee_description)\n"
   ]
  },
  {
   "cell_type": "code",
   "execution_count": 13,
   "id": "19c679a4-2a50-429c-ab6b-6af71d58cac5",
   "metadata": {},
   "outputs": [],
   "source": [
    "stylish_settee_price=180.50\n"
   ]
  },
  {
   "cell_type": "code",
   "execution_count": 15,
   "id": "3baa7133-d942-4d16-a660-3979a1a95653",
   "metadata": {},
   "outputs": [
    {
     "name": "stdout",
     "output_type": "stream",
     "text": [
      "Luxurious Lamp. Glass and iron. 36 inches tall. Brown with cream shade.\n"
     ]
    }
   ],
   "source": [
    "luxurious_lamp_description=\"Luxurious Lamp. Glass and iron. 36 inches tall. Brown with cream shade.\"\n",
    "print(luxurious_lamp_description)"
   ]
  },
  {
   "cell_type": "code",
   "execution_count": 16,
   "id": "2c191edf-feef-4d91-bfba-fc2ee5619f98",
   "metadata": {},
   "outputs": [],
   "source": [
    "luxurious_lamp_price=52.15"
   ]
  },
  {
   "cell_type": "code",
   "execution_count": 18,
   "id": "3229d623-ffc0-4cbc-b602-cb8091655282",
   "metadata": {},
   "outputs": [],
   "source": [
    "sales_tax=.088"
   ]
  },
  {
   "cell_type": "code",
   "execution_count": 19,
   "id": "60e615f8-0ac8-4066-8f2c-73950e750878",
   "metadata": {},
   "outputs": [],
   "source": [
    "customer_one_total=0\n",
    "customer_one_itemization=\"\""
   ]
  },
  {
   "cell_type": "code",
   "execution_count": 21,
   "id": "3114be9f-6679-49ef-b682-cd4eddf1af97",
   "metadata": {},
   "outputs": [
    {
     "name": "stdout",
     "output_type": "stream",
     "text": [
      "254.0\n"
     ]
    }
   ],
   "source": [
    "customer_one_total=lovely_loveseat_price\n",
    "print(customer_one_total)"
   ]
  },
  {
   "cell_type": "code",
   "execution_count": 23,
   "id": "a9a18032-4a44-4dd9-ab87-fb116473a7b3",
   "metadata": {},
   "outputs": [
    {
     "name": "stdout",
     "output_type": "stream",
     "text": [
      "Lovely Loveseat. Tufted polyester blend on wood. 32 inches high x 40 inches wide x 30 inches deep. Red or white.\n"
     ]
    }
   ],
   "source": [
    "customer_one_itemization=lovely_loveseat_description\n",
    "print(customer_one_itemization)"
   ]
  },
  {
   "cell_type": "code",
   "execution_count": 24,
   "id": "8a550c5c-a3ea-40e6-a573-be30176e2f2d",
   "metadata": {},
   "outputs": [
    {
     "name": "stdout",
     "output_type": "stream",
     "text": [
      "306.15\n"
     ]
    }
   ],
   "source": [
    "customer_one_total=customer_one_total+luxurious_lamp_price\n",
    "print(customer_one_total)"
   ]
  },
  {
   "cell_type": "code",
   "execution_count": 26,
   "id": "6cf7f5e2-e004-40a5-8b50-aaca50368e10",
   "metadata": {},
   "outputs": [
    {
     "name": "stdout",
     "output_type": "stream",
     "text": [
      "Lovely Loveseat. Tufted polyester blend on wood. 32 inches high x 40 inches wide x 30 inches deep. Red or white.Luxurious Lamp. Glass and iron. 36 inches tall. Brown with cream shade.Luxurious Lamp. Glass and iron. 36 inches tall. Brown with cream shade.\n"
     ]
    }
   ],
   "source": [
    "customer_one_itemization=customer_one_itemization+luxurious_lamp_description\n",
    "print(customer_one_itemization)"
   ]
  },
  {
   "cell_type": "code",
   "execution_count": 27,
   "id": "1b42ede2-4a16-4f7a-859f-95edd4838d13",
   "metadata": {},
   "outputs": [
    {
     "name": "stdout",
     "output_type": "stream",
     "text": [
      "26.941199999999995\n"
     ]
    }
   ],
   "source": [
    "customer_one_tax=customer_one_total*sales_tax\n",
    "print(customer_one_tax)"
   ]
  },
  {
   "cell_type": "code",
   "execution_count": 28,
   "id": "7ca07f17-25f7-49f1-b29f-f3e242c521c4",
   "metadata": {},
   "outputs": [
    {
     "name": "stdout",
     "output_type": "stream",
     "text": [
      "333.09119999999996\n"
     ]
    }
   ],
   "source": [
    "customer_one_total=customer_one_total+customer_one_tax\n",
    "print(customer_one_total)"
   ]
  },
  {
   "cell_type": "code",
   "execution_count": 34,
   "id": "ff0491dd-966b-4ba2-a895-73191fc65ed9",
   "metadata": {},
   "outputs": [
    {
     "name": "stdout",
     "output_type": "stream",
     "text": [
      "Customer One Items:\n",
      "Lovely Loveseat. Tufted polyester blend on wood. 32 inches high x 40 inches wide x 30 inches deep. Red or white.Luxurious Lamp. Glass and iron. 36 inches tall. Brown with cream shade.Luxurious Lamp. Glass and iron. 36 inches tall. Brown with cream shade.\n",
      "Customer One Total:\n",
      "333.091200\n",
      "\n"
     ]
    }
   ],
   "source": [
    "print(\"Customer One Items:\\n%s\\nCustomer One Total:\\n%f\\n\"%(customer_one_itemization,customer_one_total))"
   ]
  },
  {
   "cell_type": "code",
   "execution_count": null,
   "id": "fb9bcdc5-2fd4-4c0c-b906-77e5680bc65b",
   "metadata": {},
   "outputs": [],
   "source": []
  }
 ],
 "metadata": {
  "kernelspec": {
   "display_name": "Python 3 (ipykernel)",
   "language": "python",
   "name": "python3"
  },
  "language_info": {
   "codemirror_mode": {
    "name": "ipython",
    "version": 3
   },
   "file_extension": ".py",
   "mimetype": "text/x-python",
   "name": "python",
   "nbconvert_exporter": "python",
   "pygments_lexer": "ipython3",
   "version": "3.9.12"
  }
 },
 "nbformat": 4,
 "nbformat_minor": 5
}
