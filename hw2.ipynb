{
 "cells": [
  {
   "cell_type": "code",
   "execution_count": 39,
   "id": "179da3ec-9dc0-4b42-9946-03b71c60400a",
   "metadata": {},
   "outputs": [],
   "source": [
    "subject=[\"physics\",\"calculus\",\"poetry\",\"history\"]\n",
    "grades=[98,97,85,88]"
   ]
  },
  {
   "cell_type": "code",
   "execution_count": 40,
   "id": "8863856b-7fdd-48ac-9046-fa12753d4d2c",
   "metadata": {},
   "outputs": [
    {
     "data": {
      "text/plain": [
       "[['physics', 98], ['claculus', 97], ['poetry', 85], ['history', 88]]"
      ]
     },
     "execution_count": 40,
     "metadata": {},
     "output_type": "execute_result"
    }
   ],
   "source": [
    "gradebook=[['physics',98],['claculus',97],['poetry',85],['history',88]]\n",
    "\n",
    "gradebook"
   ]
  },
  {
   "cell_type": "code",
   "execution_count": 41,
   "id": "9ab69159-cf11-4caf-b47c-f02ff12a947a",
   "metadata": {},
   "outputs": [
    {
     "data": {
      "text/plain": [
       "[['physics', 98],\n",
       " ['claculus', 97],\n",
       " ['poetry', 85],\n",
       " ['history', 88],\n",
       " ['computer science', 100],\n",
       " ['visual arts', 93]]"
      ]
     },
     "execution_count": 41,
     "metadata": {},
     "output_type": "execute_result"
    }
   ],
   "source": [
    "gradebook.append(['computer science',100])\n",
    "gradebook.append(['visual arts',93])\n",
    "gradebook"
   ]
  },
  {
   "cell_type": "code",
   "execution_count": 42,
   "id": "cfbb1ad9-d279-40e2-9610-d33782e86069",
   "metadata": {},
   "outputs": [
    {
     "data": {
      "text/plain": [
       "[['physics', 98],\n",
       " ['claculus', 97],\n",
       " ['poetry', 85],\n",
       " ['history', 88],\n",
       " ['computer science', 100],\n",
       " ['visual arts', 98]]"
      ]
     },
     "execution_count": 42,
     "metadata": {},
     "output_type": "execute_result"
    }
   ],
   "source": [
    "gradebook[5][1]=93+5\n",
    "gradebook"
   ]
  },
  {
   "cell_type": "code",
   "execution_count": 43,
   "id": "8a62e024-4741-4ed2-adfe-c55063d33e15",
   "metadata": {},
   "outputs": [
    {
     "name": "stdout",
     "output_type": "stream",
     "text": [
      "[['physics', 98], ['claculus', 97], ['poetry', 'pass'], ['history', 88], ['computer science', 100], ['visual arts', 98]]\n"
     ]
    }
   ],
   "source": [
    "gradebook[2].remove(85)\n",
    "gradebook[2].append(\"pass\")\n",
    "print(gradebook)"
   ]
  },
  {
   "cell_type": "code",
   "execution_count": 45,
   "id": "ae654277-f7fb-4f5f-9721-7038891b4de4",
   "metadata": {},
   "outputs": [
    {
     "name": "stdout",
     "output_type": "stream",
     "text": [
      "[['politics', 80], ['latin', 96], ['dance', 97], ['architecture', 65]]\n"
     ]
    }
   ],
   "source": [
    "last_semester_gradebook = [[\"politics\", 80], [\"latin\", 96], [\"dance\", 97], [\"architecture\", 65]]\n",
    "print(last_semester_gradebook)"
   ]
  },
  {
   "cell_type": "code",
   "execution_count": 46,
   "id": "27ea811e-3379-460d-81f3-505daafdd9ec",
   "metadata": {},
   "outputs": [
    {
     "name": "stdout",
     "output_type": "stream",
     "text": [
      "[['politics', 80], ['latin', 96], ['dance', 97], ['architecture', 65], ['physics', 98], ['claculus', 97], ['poetry', 'pass'], ['history', 88], ['computer science', 100], ['visual arts', 98]]\n"
     ]
    }
   ],
   "source": [
    "full_gradebook=last_semester_gradebook+gradebook\n",
    "print(full_gradebook)"
   ]
  },
  {
   "cell_type": "code",
   "execution_count": null,
   "id": "ce47a63c-edac-419b-a969-fdeb7a1cfdfe",
   "metadata": {},
   "outputs": [],
   "source": []
  }
 ],
 "metadata": {
  "kernelspec": {
   "display_name": "Python 3 (ipykernel)",
   "language": "python",
   "name": "python3"
  },
  "language_info": {
   "codemirror_mode": {
    "name": "ipython",
    "version": 3
   },
   "file_extension": ".py",
   "mimetype": "text/x-python",
   "name": "python",
   "nbconvert_exporter": "python",
   "pygments_lexer": "ipython3",
   "version": "3.9.12"
  }
 },
 "nbformat": 4,
 "nbformat_minor": 5
}
